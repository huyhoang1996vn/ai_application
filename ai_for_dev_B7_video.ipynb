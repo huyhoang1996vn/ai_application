{
  "nbformat": 4,
  "nbformat_minor": 0,
  "metadata": {
    "colab": {
      "provenance": [],
      "authorship_tag": "ABX9TyNI8RL47YgFcpIUPUTIw1eI",
      "include_colab_link": true
    },
    "kernelspec": {
      "name": "python3",
      "display_name": "Python 3"
    },
    "language_info": {
      "name": "python"
    }
  },
  "cells": [
    {
      "cell_type": "markdown",
      "metadata": {
        "id": "view-in-github",
        "colab_type": "text"
      },
      "source": [
        "<a href=\"https://colab.research.google.com/github/huyhoang1996vn/ai_application/blob/main/ai_for_dev_B7_video.ipynb\" target=\"_parent\"><img src=\"https://colab.research.google.com/assets/colab-badge.svg\" alt=\"Open In Colab\"/></a>"
      ]
    },
    {
      "cell_type": "code",
      "execution_count": null,
      "metadata": {
        "id": "ZjxoIFHdkfM1"
      },
      "outputs": [],
      "source": [
        "# https://huggingface.co/docs/diffusers/en/using-diffusers/text-img2vid"
      ]
    },
    {
      "cell_type": "code",
      "source": [
        "!pip install accelerate"
      ],
      "metadata": {
        "id": "EEGjWmyxkzDB"
      },
      "execution_count": null,
      "outputs": []
    },
    {
      "cell_type": "code",
      "source": [
        "import torch\n",
        "from diffusers import CogVideoXImageToVideoPipeline\n",
        "from diffusers.utils import export_to_video, load_image\n",
        "\n",
        "prompt = \"A vast, shimmering ocean flows gracefully under a twilight sky, its waves undulating in a mesmerizing dance of blues and greens. The surface glints with the last rays of the setting sun, casting golden highlights that ripple across the water. Seagulls soar above, their cries blending with the gentle roar of the waves. The horizon stretches infinitely, where the ocean meets the sky in a seamless blend of hues. Close-ups reveal the intricate patterns of the waves, capturing the fluidity and dynamic beauty of the sea in motion.\"\n",
        "image = load_image(image=\"https://huggingface.co/datasets/huggingface/documentation-images/resolve/main/diffusers/cogvideox/cogvideox_rocket.png\")\n",
        "pipe = CogVideoXImageToVideoPipeline.from_pretrained(\n",
        "    \"THUDM/CogVideoX-5b-I2V\",\n",
        "    torch_dtype=torch.bfloat16\n",
        ")\n",
        "\n",
        "# reduce memory requirements\n",
        "pipe.vae.enable_tiling()\n",
        "pipe.vae.enable_slicing()\n",
        "\n",
        "video = pipe(\n",
        "    prompt=prompt,\n",
        "    image=image,\n",
        "    num_videos_per_prompt=1,\n",
        "    num_inference_steps=50,\n",
        "    num_frames=49,\n",
        "    guidance_scale=6,\n",
        "    generator=torch.Generator(device=\"cuda\").manual_seed(42),\n",
        ").frames[0]\n",
        "export_to_video(video, \"output.mp4\", fps=8)"
      ],
      "metadata": {
        "id": "aKqWZtNEkpvB"
      },
      "execution_count": null,
      "outputs": []
    }
  ]
}