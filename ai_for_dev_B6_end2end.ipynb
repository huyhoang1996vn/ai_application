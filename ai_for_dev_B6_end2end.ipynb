{
  "nbformat": 4,
  "nbformat_minor": 0,
  "metadata": {
    "colab": {
      "provenance": [],
      "authorship_tag": "ABX9TyOJEsv34Rl7q9jzDfaGavxY",
      "include_colab_link": true
    },
    "kernelspec": {
      "name": "python3",
      "display_name": "Python 3"
    },
    "language_info": {
      "name": "python"
    }
  },
  "cells": [
    {
      "cell_type": "markdown",
      "metadata": {
        "id": "view-in-github",
        "colab_type": "text"
      },
      "source": [
        "<a href=\"https://colab.research.google.com/github/huyhoang1996vn/ai_application/blob/main/ai_for_dev_B6_end2end.ipynb\" target=\"_parent\"><img src=\"https://colab.research.google.com/assets/colab-badge.svg\" alt=\"Open In Colab\"/></a>"
      ]
    },
    {
      "cell_type": "markdown",
      "source": [
        "chat -> langchain session and history -> segmantic router -> summarize (if needed) -> Chroma vextor search -> use LangChain Expression Language"
      ],
      "metadata": {
        "id": "2B-Osiz5_z4F"
      }
    },
    {
      "cell_type": "code",
      "source": [
        "!pip install chromadb"
      ],
      "metadata": {
        "collapsed": true,
        "colab": {
          "base_uri": "https://localhost:8080/"
        },
        "id": "QvjYyI9NvU0Q",
        "outputId": "a349d18d-8545-4b91-aea1-a26517af7682"
      },
      "execution_count": null,
      "outputs": [
        {
          "output_type": "stream",
          "name": "stdout",
          "text": [
            "Requirement already satisfied: chromadb in /usr/local/lib/python3.11/dist-packages (1.0.8)\n",
            "Requirement already satisfied: build>=1.0.3 in /usr/local/lib/python3.11/dist-packages (from chromadb) (1.2.2.post1)\n",
            "Requirement already satisfied: pydantic>=1.9 in /usr/local/lib/python3.11/dist-packages (from chromadb) (2.11.4)\n",
            "Requirement already satisfied: fastapi==0.115.9 in /usr/local/lib/python3.11/dist-packages (from chromadb) (0.115.9)\n",
            "Requirement already satisfied: uvicorn>=0.18.3 in /usr/local/lib/python3.11/dist-packages (from uvicorn[standard]>=0.18.3->chromadb) (0.34.2)\n",
            "Requirement already satisfied: numpy>=1.22.5 in /usr/local/lib/python3.11/dist-packages (from chromadb) (2.2.5)\n",
            "Requirement already satisfied: posthog>=2.4.0 in /usr/local/lib/python3.11/dist-packages (from chromadb) (4.0.1)\n",
            "Requirement already satisfied: typing-extensions>=4.5.0 in /usr/local/lib/python3.11/dist-packages (from chromadb) (4.13.2)\n",
            "Requirement already satisfied: onnxruntime>=1.14.1 in /usr/local/lib/python3.11/dist-packages (from chromadb) (1.21.1)\n",
            "Requirement already satisfied: opentelemetry-api>=1.2.0 in /usr/local/lib/python3.11/dist-packages (from chromadb) (1.32.1)\n",
            "Requirement already satisfied: opentelemetry-exporter-otlp-proto-grpc>=1.2.0 in /usr/local/lib/python3.11/dist-packages (from chromadb) (1.32.1)\n",
            "Requirement already satisfied: opentelemetry-instrumentation-fastapi>=0.41b0 in /usr/local/lib/python3.11/dist-packages (from chromadb) (0.53b1)\n",
            "Requirement already satisfied: opentelemetry-sdk>=1.2.0 in /usr/local/lib/python3.11/dist-packages (from chromadb) (1.32.1)\n",
            "Requirement already satisfied: tokenizers>=0.13.2 in /usr/local/lib/python3.11/dist-packages (from chromadb) (0.21.1)\n",
            "Requirement already satisfied: pypika>=0.48.9 in /usr/local/lib/python3.11/dist-packages (from chromadb) (0.48.9)\n",
            "Requirement already satisfied: tqdm>=4.65.0 in /usr/local/lib/python3.11/dist-packages (from chromadb) (4.67.1)\n",
            "Requirement already satisfied: overrides>=7.3.1 in /usr/local/lib/python3.11/dist-packages (from chromadb) (7.7.0)\n",
            "Requirement already satisfied: importlib-resources in /usr/local/lib/python3.11/dist-packages (from chromadb) (6.5.2)\n",
            "Requirement already satisfied: grpcio>=1.58.0 in /usr/local/lib/python3.11/dist-packages (from chromadb) (1.71.0)\n",
            "Requirement already satisfied: bcrypt>=4.0.1 in /usr/local/lib/python3.11/dist-packages (from chromadb) (4.3.0)\n",
            "Requirement already satisfied: typer>=0.9.0 in /usr/local/lib/python3.11/dist-packages (from chromadb) (0.15.3)\n",
            "Requirement already satisfied: kubernetes>=28.1.0 in /usr/local/lib/python3.11/dist-packages (from chromadb) (32.0.1)\n",
            "Requirement already satisfied: tenacity>=8.2.3 in /usr/local/lib/python3.11/dist-packages (from chromadb) (9.1.2)\n",
            "Requirement already satisfied: pyyaml>=6.0.0 in /usr/local/lib/python3.11/dist-packages (from chromadb) (6.0.2)\n",
            "Requirement already satisfied: mmh3>=4.0.1 in /usr/local/lib/python3.11/dist-packages (from chromadb) (5.1.0)\n",
            "Requirement already satisfied: orjson>=3.9.12 in /usr/local/lib/python3.11/dist-packages (from chromadb) (3.10.18)\n",
            "Requirement already satisfied: httpx>=0.27.0 in /usr/local/lib/python3.11/dist-packages (from chromadb) (0.28.1)\n",
            "Requirement already satisfied: rich>=10.11.0 in /usr/local/lib/python3.11/dist-packages (from chromadb) (14.0.0)\n",
            "Requirement already satisfied: jsonschema>=4.19.0 in /usr/local/lib/python3.11/dist-packages (from chromadb) (4.23.0)\n",
            "Requirement already satisfied: starlette<0.46.0,>=0.40.0 in /usr/local/lib/python3.11/dist-packages (from fastapi==0.115.9->chromadb) (0.45.3)\n",
            "Requirement already satisfied: packaging>=19.1 in /usr/local/lib/python3.11/dist-packages (from build>=1.0.3->chromadb) (24.2)\n",
            "Requirement already satisfied: pyproject_hooks in /usr/local/lib/python3.11/dist-packages (from build>=1.0.3->chromadb) (1.2.0)\n",
            "Requirement already satisfied: anyio in /usr/local/lib/python3.11/dist-packages (from httpx>=0.27.0->chromadb) (4.9.0)\n",
            "Requirement already satisfied: certifi in /usr/local/lib/python3.11/dist-packages (from httpx>=0.27.0->chromadb) (2025.4.26)\n",
            "Requirement already satisfied: httpcore==1.* in /usr/local/lib/python3.11/dist-packages (from httpx>=0.27.0->chromadb) (1.0.9)\n",
            "Requirement already satisfied: idna in /usr/local/lib/python3.11/dist-packages (from httpx>=0.27.0->chromadb) (3.10)\n",
            "Requirement already satisfied: h11>=0.16 in /usr/local/lib/python3.11/dist-packages (from httpcore==1.*->httpx>=0.27.0->chromadb) (0.16.0)\n",
            "Requirement already satisfied: attrs>=22.2.0 in /usr/local/lib/python3.11/dist-packages (from jsonschema>=4.19.0->chromadb) (25.3.0)\n",
            "Requirement already satisfied: jsonschema-specifications>=2023.03.6 in /usr/local/lib/python3.11/dist-packages (from jsonschema>=4.19.0->chromadb) (2025.4.1)\n",
            "Requirement already satisfied: referencing>=0.28.4 in /usr/local/lib/python3.11/dist-packages (from jsonschema>=4.19.0->chromadb) (0.36.2)\n",
            "Requirement already satisfied: rpds-py>=0.7.1 in /usr/local/lib/python3.11/dist-packages (from jsonschema>=4.19.0->chromadb) (0.24.0)\n",
            "Requirement already satisfied: six>=1.9.0 in /usr/local/lib/python3.11/dist-packages (from kubernetes>=28.1.0->chromadb) (1.17.0)\n",
            "Requirement already satisfied: python-dateutil>=2.5.3 in /usr/local/lib/python3.11/dist-packages (from kubernetes>=28.1.0->chromadb) (2.9.0.post0)\n",
            "Requirement already satisfied: google-auth>=1.0.1 in /usr/local/lib/python3.11/dist-packages (from kubernetes>=28.1.0->chromadb) (2.40.0)\n",
            "Requirement already satisfied: websocket-client!=0.40.0,!=0.41.*,!=0.42.*,>=0.32.0 in /usr/local/lib/python3.11/dist-packages (from kubernetes>=28.1.0->chromadb) (1.8.0)\n",
            "Requirement already satisfied: requests in /usr/local/lib/python3.11/dist-packages (from kubernetes>=28.1.0->chromadb) (2.32.3)\n",
            "Requirement already satisfied: requests-oauthlib in /usr/local/lib/python3.11/dist-packages (from kubernetes>=28.1.0->chromadb) (2.0.0)\n",
            "Requirement already satisfied: oauthlib>=3.2.2 in /usr/local/lib/python3.11/dist-packages (from kubernetes>=28.1.0->chromadb) (3.2.2)\n",
            "Requirement already satisfied: urllib3>=1.24.2 in /usr/local/lib/python3.11/dist-packages (from kubernetes>=28.1.0->chromadb) (2.4.0)\n",
            "Requirement already satisfied: durationpy>=0.7 in /usr/local/lib/python3.11/dist-packages (from kubernetes>=28.1.0->chromadb) (0.9)\n",
            "Requirement already satisfied: coloredlogs in /usr/local/lib/python3.11/dist-packages (from onnxruntime>=1.14.1->chromadb) (15.0.1)\n",
            "Requirement already satisfied: flatbuffers in /usr/local/lib/python3.11/dist-packages (from onnxruntime>=1.14.1->chromadb) (25.2.10)\n",
            "Requirement already satisfied: protobuf in /usr/local/lib/python3.11/dist-packages (from onnxruntime>=1.14.1->chromadb) (5.29.4)\n",
            "Requirement already satisfied: sympy in /usr/local/lib/python3.11/dist-packages (from onnxruntime>=1.14.1->chromadb) (1.14.0)\n",
            "Requirement already satisfied: deprecated>=1.2.6 in /usr/local/lib/python3.11/dist-packages (from opentelemetry-api>=1.2.0->chromadb) (1.2.18)\n",
            "Requirement already satisfied: importlib-metadata<8.7.0,>=6.0 in /usr/local/lib/python3.11/dist-packages (from opentelemetry-api>=1.2.0->chromadb) (8.6.1)\n",
            "Requirement already satisfied: googleapis-common-protos~=1.52 in /usr/local/lib/python3.11/dist-packages (from opentelemetry-exporter-otlp-proto-grpc>=1.2.0->chromadb) (1.70.0)\n",
            "Requirement already satisfied: opentelemetry-exporter-otlp-proto-common==1.32.1 in /usr/local/lib/python3.11/dist-packages (from opentelemetry-exporter-otlp-proto-grpc>=1.2.0->chromadb) (1.32.1)\n",
            "Requirement already satisfied: opentelemetry-proto==1.32.1 in /usr/local/lib/python3.11/dist-packages (from opentelemetry-exporter-otlp-proto-grpc>=1.2.0->chromadb) (1.32.1)\n",
            "Requirement already satisfied: opentelemetry-instrumentation-asgi==0.53b1 in /usr/local/lib/python3.11/dist-packages (from opentelemetry-instrumentation-fastapi>=0.41b0->chromadb) (0.53b1)\n",
            "Requirement already satisfied: opentelemetry-instrumentation==0.53b1 in /usr/local/lib/python3.11/dist-packages (from opentelemetry-instrumentation-fastapi>=0.41b0->chromadb) (0.53b1)\n",
            "Requirement already satisfied: opentelemetry-semantic-conventions==0.53b1 in /usr/local/lib/python3.11/dist-packages (from opentelemetry-instrumentation-fastapi>=0.41b0->chromadb) (0.53b1)\n",
            "Requirement already satisfied: opentelemetry-util-http==0.53b1 in /usr/local/lib/python3.11/dist-packages (from opentelemetry-instrumentation-fastapi>=0.41b0->chromadb) (0.53b1)\n",
            "Requirement already satisfied: wrapt<2.0.0,>=1.0.0 in /usr/local/lib/python3.11/dist-packages (from opentelemetry-instrumentation==0.53b1->opentelemetry-instrumentation-fastapi>=0.41b0->chromadb) (1.17.2)\n",
            "Requirement already satisfied: asgiref~=3.0 in /usr/local/lib/python3.11/dist-packages (from opentelemetry-instrumentation-asgi==0.53b1->opentelemetry-instrumentation-fastapi>=0.41b0->chromadb) (3.8.1)\n",
            "Requirement already satisfied: backoff>=1.10.0 in /usr/local/lib/python3.11/dist-packages (from posthog>=2.4.0->chromadb) (2.2.1)\n",
            "Requirement already satisfied: distro>=1.5.0 in /usr/local/lib/python3.11/dist-packages (from posthog>=2.4.0->chromadb) (1.9.0)\n",
            "Requirement already satisfied: annotated-types>=0.6.0 in /usr/local/lib/python3.11/dist-packages (from pydantic>=1.9->chromadb) (0.7.0)\n",
            "Requirement already satisfied: pydantic-core==2.33.2 in /usr/local/lib/python3.11/dist-packages (from pydantic>=1.9->chromadb) (2.33.2)\n",
            "Requirement already satisfied: typing-inspection>=0.4.0 in /usr/local/lib/python3.11/dist-packages (from pydantic>=1.9->chromadb) (0.4.0)\n",
            "Requirement already satisfied: markdown-it-py>=2.2.0 in /usr/local/lib/python3.11/dist-packages (from rich>=10.11.0->chromadb) (3.0.0)\n",
            "Requirement already satisfied: pygments<3.0.0,>=2.13.0 in /usr/local/lib/python3.11/dist-packages (from rich>=10.11.0->chromadb) (2.19.1)\n",
            "Requirement already satisfied: huggingface-hub<1.0,>=0.16.4 in /usr/local/lib/python3.11/dist-packages (from tokenizers>=0.13.2->chromadb) (0.30.2)\n",
            "Requirement already satisfied: click>=8.0.0 in /usr/local/lib/python3.11/dist-packages (from typer>=0.9.0->chromadb) (8.1.8)\n",
            "Requirement already satisfied: shellingham>=1.3.0 in /usr/local/lib/python3.11/dist-packages (from typer>=0.9.0->chromadb) (1.5.4)\n",
            "Requirement already satisfied: httptools>=0.6.3 in /usr/local/lib/python3.11/dist-packages (from uvicorn[standard]>=0.18.3->chromadb) (0.6.4)\n",
            "Requirement already satisfied: python-dotenv>=0.13 in /usr/local/lib/python3.11/dist-packages (from uvicorn[standard]>=0.18.3->chromadb) (1.1.0)\n",
            "Requirement already satisfied: uvloop!=0.15.0,!=0.15.1,>=0.14.0 in /usr/local/lib/python3.11/dist-packages (from uvicorn[standard]>=0.18.3->chromadb) (0.21.0)\n",
            "Requirement already satisfied: watchfiles>=0.13 in /usr/local/lib/python3.11/dist-packages (from uvicorn[standard]>=0.18.3->chromadb) (1.0.5)\n",
            "Requirement already satisfied: websockets>=10.4 in /usr/local/lib/python3.11/dist-packages (from uvicorn[standard]>=0.18.3->chromadb) (15.0.1)\n",
            "Requirement already satisfied: cachetools<6.0,>=2.0.0 in /usr/local/lib/python3.11/dist-packages (from google-auth>=1.0.1->kubernetes>=28.1.0->chromadb) (5.5.2)\n",
            "Requirement already satisfied: pyasn1-modules>=0.2.1 in /usr/local/lib/python3.11/dist-packages (from google-auth>=1.0.1->kubernetes>=28.1.0->chromadb) (0.4.2)\n",
            "Requirement already satisfied: rsa<5,>=3.1.4 in /usr/local/lib/python3.11/dist-packages (from google-auth>=1.0.1->kubernetes>=28.1.0->chromadb) (4.9.1)\n",
            "Requirement already satisfied: filelock in /usr/local/lib/python3.11/dist-packages (from huggingface-hub<1.0,>=0.16.4->tokenizers>=0.13.2->chromadb) (3.18.0)\n",
            "Requirement already satisfied: fsspec>=2023.5.0 in /usr/local/lib/python3.11/dist-packages (from huggingface-hub<1.0,>=0.16.4->tokenizers>=0.13.2->chromadb) (2025.3.2)\n",
            "Requirement already satisfied: zipp>=3.20 in /usr/local/lib/python3.11/dist-packages (from importlib-metadata<8.7.0,>=6.0->opentelemetry-api>=1.2.0->chromadb) (3.21.0)\n",
            "Requirement already satisfied: mdurl~=0.1 in /usr/local/lib/python3.11/dist-packages (from markdown-it-py>=2.2.0->rich>=10.11.0->chromadb) (0.1.2)\n",
            "Requirement already satisfied: charset-normalizer<4,>=2 in /usr/local/lib/python3.11/dist-packages (from requests->kubernetes>=28.1.0->chromadb) (3.4.2)\n",
            "Requirement already satisfied: sniffio>=1.1 in /usr/local/lib/python3.11/dist-packages (from anyio->httpx>=0.27.0->chromadb) (1.3.1)\n",
            "Requirement already satisfied: humanfriendly>=9.1 in /usr/local/lib/python3.11/dist-packages (from coloredlogs->onnxruntime>=1.14.1->chromadb) (10.0)\n",
            "Requirement already satisfied: mpmath<1.4,>=1.1.0 in /usr/local/lib/python3.11/dist-packages (from sympy->onnxruntime>=1.14.1->chromadb) (1.3.0)\n",
            "Requirement already satisfied: pyasn1<0.7.0,>=0.6.1 in /usr/local/lib/python3.11/dist-packages (from pyasn1-modules>=0.2.1->google-auth>=1.0.1->kubernetes>=28.1.0->chromadb) (0.6.1)\n"
          ]
        }
      ]
    },
    {
      "cell_type": "code",
      "source": [
        "!pip install -qU \"langchain[openai]\""
      ],
      "metadata": {
        "id": "Mlv2Twxe7Eyk"
      },
      "execution_count": null,
      "outputs": []
    },
    {
      "cell_type": "code",
      "source": [
        "!pip install langchain-chroma"
      ],
      "metadata": {
        "id": "XR1rGZQkwWAG"
      },
      "execution_count": null,
      "outputs": []
    },
    {
      "cell_type": "code",
      "source": [
        "!pip install -qU langchain_community beautifulsoup4"
      ],
      "metadata": {
        "id": "i-upZe91wapC"
      },
      "execution_count": null,
      "outputs": []
    },
    {
      "cell_type": "code",
      "source": [
        "import os\n",
        "from google.colab import userdata\n",
        "OPENAI_API_KEY = userdata.get('gpt')\n",
        "\n",
        "os.environ[\"OPENAI_API_KEY\"] = OPENAI_API_KEY\n",
        "from langchain.chat_models import init_chat_model\n",
        "\n",
        "model = init_chat_model(\"gpt-4o-mini\", model_provider=\"openai\")"
      ],
      "metadata": {
        "id": "SfDatR9e5Kik"
      },
      "execution_count": null,
      "outputs": []
    },
    {
      "cell_type": "code",
      "source": [
        "from langchain_core.chat_history import InMemoryChatMessageHistory\n",
        "\n",
        "chats_by_session_id = {}\n",
        "\n",
        "\n",
        "def get_chat_history(session_id: str) -> InMemoryChatMessageHistory:\n",
        "    chat_history = chats_by_session_id.get(session_id)\n",
        "    if chat_history is None:\n",
        "        chat_history = InMemoryChatMessageHistory()\n",
        "        chats_by_session_id[session_id] = chat_history\n",
        "    return chat_history"
      ],
      "metadata": {
        "id": "Bmlxxni257Dv"
      },
      "execution_count": null,
      "outputs": []
    },
    {
      "cell_type": "code",
      "source": [
        "!pip install -qU semantic-router"
      ],
      "metadata": {
        "colab": {
          "base_uri": "https://localhost:8080/"
        },
        "id": "lO1u8rhjkTpt",
        "outputId": "be8c43f4-5523-4b27-f9b8-ca4d69c8dfc9"
      },
      "execution_count": null,
      "outputs": [
        {
          "output_type": "stream",
          "name": "stdout",
          "text": [
            "\u001b[2K     \u001b[90m━━━━━━━━━━━━━━━━━━━━━━━━━━━━━━━━━━━━━━━━\u001b[0m \u001b[32m50.1/50.1 kB\u001b[0m \u001b[31m4.2 MB/s\u001b[0m eta \u001b[36m0:00:00\u001b[0m\n",
            "\u001b[2K   \u001b[90m━━━━━━━━━━━━━━━━━━━━━━━━━━━━━━━━━━━━━━━━\u001b[0m \u001b[32m111.1/111.1 kB\u001b[0m \u001b[31m9.2 MB/s\u001b[0m eta \u001b[36m0:00:00\u001b[0m\n",
            "\u001b[2K   \u001b[90m━━━━━━━━━━━━━━━━━━━━━━━━━━━━━━━━━━━━━━━━\u001b[0m \u001b[32m144.2/144.2 kB\u001b[0m \u001b[31m12.6 MB/s\u001b[0m eta \u001b[36m0:00:00\u001b[0m\n",
            "\u001b[?25h\u001b[31mERROR: pip's dependency resolver does not currently take into account all the packages that are installed. This behaviour is the source of the following dependency conflicts.\n",
            "google-colab 1.0.0 requires google-auth==2.38.0, but you have google-auth 2.40.0 which is incompatible.\n",
            "bigframes 2.1.0 requires rich<14,>=12.4.4, but you have rich 14.0.0 which is incompatible.\n",
            "tensorflow 2.18.0 requires numpy<2.1.0,>=1.26.0, but you have numpy 2.2.5 which is incompatible.\u001b[0m\u001b[31m\n",
            "\u001b[0m"
          ]
        }
      ]
    },
    {
      "cell_type": "code",
      "source": [
        "# https://github.com/aurelio-labs/semantic-router\n",
        "from semantic_router import Route\n",
        "\n",
        "interviewee_route = Route(\n",
        "    name=\"interviewee\",\n",
        "    utterances=[\n",
        "    \"Who is Steve?\",\n",
        "    \"Who is Jacob?\",\n",
        "    \"Who is Hoang Van Nga?\",\n",
        "    \"Software developer\",\n",
        "    \"Which skill do you have?\",\n",
        "    \"Which framework do you have?\",\n",
        "    \"Which exp do you have?\",\n",
        "    \"Which experience do you have?\",\n",
        "    \"How many years of experience?\",\n",
        "    \"Which experience does Steve have?\",\n",
        "    \"Which experience does Hoang Van Nga have?\",\n",
        "    \"Which experience does Jacob have?\",\n",
        "    \"Descripbe Steve\",\n",
        "    \"Describe Hoang Van Nga\",\n",
        "    \"Describe Jacob\",\n",
        "    \"What is Steve's skill?\",\n",
        "    \"What is Hoang Van Nga's skill?\",\n",
        "    \"What is Jacob's skill?\",\n",
        "    \"Describe skills of Steve\",\n",
        "    \"Describe skills of Hoang Van Nga\",\n",
        "    \"Describe skills of Jacob\",\n",
        "    \"What is Steve's framework?\",\n",
        "    \"What is Hoang Van Nga's framework?\",\n",
        "    \"What is Jacob's framework?\",\n",
        "    ]\n",
        ")\n",
        "chitchat_route = Route(\n",
        "    name=\"chitchat\",\n",
        "    utterances=[\n",
        "    \"What's the weather like today?\",\n",
        "    \"How hot is it outside?\",\n",
        "    \"Will it rain tomorrow?\",\n",
        "    \"What is the current temperature?\",\n",
        "    \"Can you tell me what the current weather conditions are?\",\n",
        "    \"Will it be sunny this weekend?\",\n",
        "    \"What was the temperature yesterday?\",\n",
        "    \"How cold will it be tonight?\",\n",
        "    \"Who was the first president of the United States?\",\n",
        "    \"In what year did World War II end?\",\n",
        "    \"Can you tell me about the history of the internet?\",\n",
        "    \"In what year was the Eiffel Tower built?\",\n",
        "    \"Who invented the telephone?\",\n",
        "    \"What is your name?\",\n",
        "    \"Do you have a name?\",\n",
        "    \"What should I call you?\",\n",
        "    \"Who created you?\",\n",
        "    \"How old are you?\",\n",
        "    \"Can you tell me a fun fact?\",\n",
        "    \"Do you know any interesting trivia?\",\n",
        "    \"What is your favorite color?\"\n",
        "    \"What is your favorite movie?\",\n",
        "    \"Do you have any hobbies?\",\n",
        "    \"What is the meaning of life?\",\n",
        "    \"Can you tell me a joke?\",\n",
        "    \"What is the capital of France?\",\n",
        "    \"What is the population of the world?\",\n",
        "    \"How many continents are there?\",\n",
        "    \"Who wrote 'To Kill a Mockingbird'?\",\n",
        "    \"Can you give me a quote by Albert Einstein?\"\n",
        "],\n",
        ")\n",
        "routes = [interviewee_route, chitchat_route]"
      ],
      "metadata": {
        "id": "UooC_mAOki5H"
      },
      "execution_count": null,
      "outputs": []
    },
    {
      "cell_type": "code",
      "source": [
        "from semantic_router.encoders import OpenAIEncoder\n",
        "import os\n",
        "from google.colab import userdata\n",
        "gpt_key = userdata.get('gpt')\n",
        "os.environ[\"OPENAI_API_KEY\"] = gpt_key\n",
        "\n",
        "encoder = OpenAIEncoder()"
      ],
      "metadata": {
        "id": "xm3x7YNPmz4V"
      },
      "execution_count": null,
      "outputs": []
    },
    {
      "cell_type": "code",
      "source": [
        "from semantic_router.routers import SemanticRouter\n",
        "\n",
        "route_layer = SemanticRouter(encoder=encoder, routes=routes, auto_sync=\"local\")"
      ],
      "metadata": {
        "colab": {
          "base_uri": "https://localhost:8080/"
        },
        "id": "HGhcDJMbnCj9",
        "outputId": "ecb03713-ec03-4b77-840c-ecfd4efb67a5"
      },
      "execution_count": null,
      "outputs": [
        {
          "output_type": "stream",
          "name": "stderr",
          "text": [
            "WARNING:semantic_router.utils.logger:No index provided. Using default LocalIndex.\n",
            "WARNING:semantic_router.utils.logger:No config is written for LocalIndex.\n"
          ]
        }
      ]
    },
    {
      "cell_type": "code",
      "source": [
        "user_input = \"How good does Jacob have?\"\n",
        "output = route_layer(user_input)\n",
        "print(\"output\", output)\n",
        "if output.name == \"interviewee\":\n",
        "    print(\"The query is about interviewee.\")\n",
        "elif output.name == \"chitchat\":\n",
        "    print(\"The query is about chitchat.\")\n",
        "else:\n",
        "    print(\"The query does not match any defined routes.\")"
      ],
      "metadata": {
        "colab": {
          "base_uri": "https://localhost:8080/"
        },
        "id": "h-W8U3N9nG-t",
        "outputId": "90e9aa78-fc1a-4c90-d297-e1b833fb86c7"
      },
      "execution_count": null,
      "outputs": [
        {
          "output_type": "stream",
          "name": "stdout",
          "text": [
            "output name='interviewee' function_call=None similarity_score=None\n",
            "The query is about interviewee.\n"
          ]
        }
      ]
    },
    {
      "cell_type": "code",
      "source": [],
      "metadata": {
        "id": "Tg4iVSKLnyEl"
      },
      "execution_count": null,
      "outputs": []
    },
    {
      "cell_type": "code",
      "source": [
        "import requests\n",
        "from bs4 import BeautifulSoup\n",
        "url = 'https://stevedev.pythonanywhere.com/' # Replace with the desired URL\n",
        "response = requests.get(url)\n",
        "soup = BeautifulSoup(response.text, 'html.parser')\n",
        "steve_text_content = soup.get_text()\n",
        "# print(steve_text_content)\n",
        "# Get text and remove newline characters\n",
        "steve_text_content = soup.get_text()\n",
        "steve_clean_text = steve_text_content.replace('\\n', ' ').strip()\n",
        "\n",
        "# Optional: remove extra spaces\n",
        "steve_clean_text = ' '.join(steve_clean_text.split())\n",
        "\n",
        "steve_clean_text"
      ],
      "metadata": {
        "colab": {
          "base_uri": "https://localhost:8080/",
          "height": 140
        },
        "id": "KDLB8hogn9qj",
        "outputId": "aa006713-363e-4c2f-f21e-d4de1410318b"
      },
      "execution_count": null,
      "outputs": [
        {
          "output_type": "execute_result",
          "data": {
            "text/plain": [
              "\"Steve CV Steve CV About Experience Articles Certificate Contact Steve Nguyen DeveloperHire MeResume About Hello! I am Steve Nguyen and come from Viet Nam. Web Developer, Python Engineer. I am holding a degree in Da Nang University of Technology. I have several years experiences for python developer and a little bit of experiences about developing golang. Mostly, I use Django rest framework in my projects. Recently, I do work with FastAPI and Flask in micro services basis. Basic Information Age: 28 Email: stevenguyen1996vn@gmail.com Phone: +84 935 682 466 Address: Ho Chi Minh, Viet Nam Hobbies: Soccer, Gym Work Experience 2022 - Present Links Project Full-stack Developer The product provide clients a tool to manage human office with functions like generate payslip, request a leave, timekeeping, ... We allocate functions to many services and use Azure services to deploy. I usually work on portal and azure CLI to manage service like App service, Function app, Storage account, cosmos DB, API management and so on. We are building docker images for our services which is as needed to set up kubernetes. Frameworks I used is Django, NestJS, NodeJS to provice API. In django, I also read data from excels fiel by pandas and numpy. Reactjs is Frontend framework and React native is used on mobile. linksinternational.com → 2022 SmartQA Project Python Developer I take part in building project based of serverless architecture. The project has functions like trello with manage tasks, assign to member and so on. The project use AWS services such as: lambda function, SES, Route53, DynamoBD, IotCore, S3, etc... I ofen use AWS SAM and AWS CLI to deploy resources on cloud. sqa.jp → 2021 - 2022 Datatize Crypto Project Python Developer Product analyze data from exchanges by storing data and draw on diagrams. Thanks to product, clients can predict and make a decision to buy or sell. To scraping data, we use jobs run on Airflow then store data in postgresql. Dash is a perfect framework which supports developers query, adujst and draw on diagrams. Besides, I usually incorporate exchange API such as Coinbase, Kraken in project. Numpy, Pandas are libraries used in adjusting and handling data. Automatically, we deploy by Github action CI/CD, then testing by unit test and selenium test. datatize.com → 2020 - 2021 Umbalena Project Python Developer I join hand to build an owner e-book product intended children around the world. This project runs on microservices basis. To make it more clearly, my team choose python as main backend language and several frameworks such as Django, FastAPI, Flask and so on. I take responsibility for creating models, exploring technologies and development Docker. umbalena.vn → 2019 - 2020 Thegioigas Project BackEnd Developer Another microservice projects I built, but It is a manager system about providing gas in the middle of Viet Nam. To clarify, we use a new program language as Go and Python to develop several small projects, that combined to a system in kubernetes basis. My ambitions are designing models, discover high-tech and work with Docker thegioigas.vn → 2018 - 2019 Metiz cinema Project Python Developer This project helps consumers control a cinema with booking, creating schedule, etc.. My colleague and I start the project about cinema which use Django framework. To clarify, I access data through query sql in server. Then, I render page by html, css and jquery with animations. metiz.vn → 2017 - 2018 Helio Project BackEnd Developer The first project I joined is website for entertainment center in Da Nang City. We have Django Rest Framework to provide API. Moreover, we integrate API from Google and facebook in Oauth and FCM. We also work with designers to create layout. helio.vn → Education 2014 - 2019 Bachelor's Degree The Degree of Engineer in Information Technology Da Nang University of Science and Technology I studied at Da Nang University of Science and Technology and graduated in August 2019. My major is Software developer. I have 5 years for learning computer science in higher education. Articles Build React Native application using Expo Developers don't need macOS to build mobile app. Read More Publish android application to Google Publishment application to Google play often require many process. Read More Publish application to App Store IOS application is indispensable part of mobile project. Read More Debug in API Management Azure How to trace requests in api gateway management. Read More Azure App Service Guide Cloud service helps developers so munch in deployment. Read More Function app serverless on Azure Traditionally, we choose plaftform, set up version language, install libraries.. Read More CI/CD in Azure Devops Building a Continuous Integration Pipeline in Azure DevOps. Read More AWS Lambda function Lambda function is the most popular technique every developers all know. Read More Install Boto3 in layer AWS Lambda function Lambda function is the most popular technique every developers all know. Read More Minio Object Storage Service (like Amazon S3) Object storage service is more popular for several reasons. Read More Neural network Foundamental Artificial Intelligence Foundamental for beginners. Read More Migrations in django Migrations are Django’s way of applying changes you make to your models. Read More Deploy Django on Pythonanywhere Guide Deployment is required process in software. Read More Unit Test And Selenium in python Testing is a necessary part of the development process but not all. Read More Promise Vs Async/Await in javascript How difference between Promise chains and Async/Await. Read More Compare packages in javascript Explain and compare popular concept like npm, yarn and so on. Read More Cronjob, Celery and Scheduled tasks in python Cronjob is a solution I got exposed to at first. Read More OAuth And OAuth2 Workflow OAuth (Open Authorization) is an open standard for authentication and authorization. Read More PayPal Payment Integration Guide In Service API They are webhook paypal and api payment paypal. Read More In-App Payment Guide In Service API In-App payment is available and supported by Apple and Google. Read More Collation in SQL Rule for store and query data in sql. Read More Programing language Framework Cloud Services Artificial Intelligence Portfolio Umbalena Project Website and App Metiz Project Website and App Gas Project Website and App Helio Project Website and App Triangle Pattern Graphic Design Abstract Umbrella Graphic Design Cube Surface Texture Graphic Design Abstract Line Graphic Design Photoshoot Photography Wedding Photoshoot Photography Beach Photoshoot Photography Nature Photoshoot Photography Professional Skills English 85% Python 85% SQL 70% Golang 60% Docker 75% React js 60% Contact Me Feel free to contact me Send Address Ho Chi Minh, Viet Nam Phone +84 935 682 466 Email steveguyen1996vn@gmail.com Steve Nguyen © Steve CV. All rights reserved.Design - TemplateFlip\""
            ],
            "application/vnd.google.colaboratory.intrinsic+json": {
              "type": "string"
            }
          },
          "metadata": {},
          "execution_count": 17
        }
      ]
    },
    {
      "cell_type": "code",
      "source": [
        "!pip install -qU  nest_asyncio"
      ],
      "metadata": {
        "id": "83pESkYLo1vl"
      },
      "execution_count": null,
      "outputs": []
    },
    {
      "cell_type": "code",
      "source": [
        "# fixes a bug with asyncio and jupyter\n",
        "import nest_asyncio\n",
        "\n",
        "nest_asyncio.apply()"
      ],
      "metadata": {
        "id": "ZY4lbtcEo435"
      },
      "execution_count": null,
      "outputs": []
    },
    {
      "cell_type": "code",
      "source": [
        "from langchain_community.document_loaders import WebBaseLoader\n",
        "loader = WebBaseLoader([\"https://ngahoangdev.com/certificates/\", \"https://ngahoangdev.com/about/\", \"https://ngahoangdev.com/\"])\n",
        "loader.requests_per_second = 1\n",
        "jacob_documents = loader.aload()\n",
        "jacob_documents\n"
      ],
      "metadata": {
        "colab": {
          "base_uri": "https://localhost:8080/"
        },
        "id": "N2Lg6VyPocya",
        "outputId": "9b51b86b-2bf6-4ca8-f3a8-2460b4001ebd",
        "collapsed": true
      },
      "execution_count": null,
      "outputs": [
        {
          "output_type": "stream",
          "name": "stderr",
          "text": [
            "WARNING:langchain_community.utils.user_agent:USER_AGENT environment variable not set, consider setting it to identify your requests.\n",
            "<ipython-input-20-5f24c08c600f>:4: LangChainDeprecationWarning: See API reference for updated usage: https://python.langchain.com/api_reference/community/document_loaders/langchain_community.document_loaders.web_base.WebBaseLoader.html\n",
            "  jacob_documents = loader.aload()\n",
            "Fetching pages: 100%|##########| 3/3 [00:00<00:00,  3.13it/s]\n"
          ]
        },
        {
          "output_type": "execute_result",
          "data": {
            "text/plain": [
              "[Document(metadata={'source': 'https://ngahoangdev.com/certificates/', 'title': 'Certificates | Nga Hoang', 'description': 'I’m happy to share the list of certifications I have earned 😁', 'language': 'en'}, page_content=\" Certificates | Nga Hoang     Nga HoangHi! I'm a software engineer, and this is my personal blog where I document everything about my career. Feel free to give it a read. Thanks!   HOME    CATEGORIES    TAGS    ARCHIVES    CERTIFICATES    ABOUT                    Home   Certificates   Certificates       Cancel CertificatesI’m happy to share the list of certifications I have earned 😁BadgeNameCredlyIssued DateIssued byAWS Certified Solutions Architect – AssociateLink2023-12-01AWSData Analysis with PythonLink2023-12-19CourseraData Visualization with PythonLink2023-12-19CourseraRecently Updated Set up a Nginx Ingress on k8s Set up a Kubernetes cluster using k0s AWS Certified Solutions Architect - Associate (SAA-C03) Cheat Sheet How I built this website? - Jekyll and AWS (Part 1) Setup Jupyter Lab with PlotlyTrending Tags aws cloudfront jekyll on-premise route53 s3 docker k0s k8s ossFriends devopslite © 2025 Nga Hoang. Some rights reserved.Using the Chirpy theme for Jekyll.Trending Tags aws cloudfront jekyll on-premise route53 s3 docker k0s k8s oss             \\n\"),\n",
              " Document(metadata={'source': 'https://ngahoangdev.com/about/', 'title': 'About | Nga Hoang', 'description': 'Greetings! 👋 I’m Nga, you can call me Jacob. I’m Python Engineer with 5+ years of hands-on experience which is passionate about leveraging Python’s power to build robust applications. With my knowledge of AWS services and Linux, I enjoy architecting scalable solutions that seamlessly blend code and infrastructure. Here you’ll find various articles about some of my insights and challenges long my software development journey.', 'language': 'en'}, page_content=\" About | Nga Hoang     Nga HoangHi! I'm a software engineer, and this is my personal blog where I document everything about my career. Feel free to give it a read. Thanks!   HOME    CATEGORIES    TAGS    ARCHIVES    CERTIFICATES    ABOUT                    Home   About   About       Cancel AboutGreetings! 👋 I’m Nga, you can call me Jacob. I’m Python Engineer with 5+ years of hands-on experience which is passionate about leveraging Python’s power to build robust applications. With my knowledge of AWS services and Linux, I enjoy architecting scalable solutions that seamlessly blend code and infrastructure. Here you’ll find various articles about some of my insights and challenges long my software development journey.I hope you enjoy the content. If you’d like to reach out, the best place right now is to connect on LinkedIn or go to my Github. Thanks!Recently Updated Set up a Nginx Ingress on k8s Set up a Kubernetes cluster using k0s AWS Certified Solutions Architect - Associate (SAA-C03) Cheat Sheet How I built this website? - Jekyll and AWS (Part 1) Setup Jupyter Lab with PlotlyTrending Tags aws cloudfront jekyll on-premise route53 s3 docker k0s k8s ossFriends devopslite © 2025 Nga Hoang. Some rights reserved.Using the Chirpy theme for Jekyll.Trending Tags aws cloudfront jekyll on-premise route53 s3 docker k0s k8s oss             \\n\"),\n",
              " Document(metadata={'source': 'https://ngahoangdev.com/', 'title': 'Nga Hoang', 'description': 'Explore the world of technology and programming with Nga Hoang’s Dev Blog. Discover insightful articles on web development, software engineering, and the latest trends in the tech industry', 'language': 'en'}, page_content=\" Nga Hoang     Nga HoangHi! I'm a software engineer, and this is my personal blog where I document everything about my career. Feel free to give it a read. Thanks!   HOME    CATEGORIES    TAGS    ARCHIVES    CERTIFICATES    ABOUT                  Home   Nga Hoang       Cancel Set up a Nginx Ingress on k8s Hello everyone, it’s me again. Today is the first day of the Year of the Snake 2025, according to Eastern tradition. I wish you a new year full of health and energy for the challenges and opportuni...   Jan 29, 2025    Technical sharing, Kubernetes, open-source  Set up a Kubernetes cluster using k0s Hello everyone, its new year 2025 and I’m back after a long time! Today, I want to share how to set up a Kubernetes cluster using k0s, which I just learned about a couple of days ago. I’ve been usi...   Jan 1, 2025    Technical sharing, Kubernetes, open-source  How I built this website? - Jekyll and AWS (Part 3) In previous article, I have shared how to use Github and Github Action for automation build and deploy to AWS. We need the final step to avoid the issue NoSuchKey which is returned from S3 Root ca...   Apr 21, 2024    Technical sharing, AWS  How I built this website? - Jekyll and AWS (Part 2) In previous article, I have shared how to setup Jekyll Blogs on AWS by using S3, Cloudfront and Route53. In this one, we continue to use Github and Github Action for automation build and deploy to ...   Jan 1, 2024    Technical sharing, AWS  Using Certbot to generate Let's Encrypt wildcard certificates In this guide, we’ll explore the process of utilizing Certbot for the creation of Let’s Encrypt wildcard certificates. A wildcard certificate helps to secure numerous subdomains under a single SSL ...   Dec 27, 2023    Technical sharing, Security  Setup Jupyter Lab with Plotly This article will show you how to setup Jupyter Lab and install some Python Packages for Data Analysis and Data Visualization work. Setup Python Environment First of all, you should have a Python ...   Dec 20, 2023    Technical sharing, Python  How I built this website? - Jekyll and AWS (Part 1) Welcome to my first article. This will show you how I setup, manage and publish my blog website to the internet. I’m using Jekyll as an open source for technical writing using Jekyll theme. While ...   Dec 5, 2023    Technical sharing, AWS  AWS Certified Solutions Architect - Associate (SAA-C03) Cheat Sheet Introduction The AWS Certified Solutions Architect - Associate (SAA-C03) exam is a pivotal certification for professionals aspiring to design distributed systems on the Amazon Web Services (AWS) p...   Nov 27, 2023    AWS, Certification, Cheat Sheet Recently Updated Set up a Nginx Ingress on k8s Set up a Kubernetes cluster using k0s AWS Certified Solutions Architect - Associate (SAA-C03) Cheat Sheet How I built this website? - Jekyll and AWS (Part 1) Setup Jupyter Lab with PlotlyTrending Tags aws cloudfront jekyll on-premise route53 s3 docker k0s k8s ossFriends devopslite © 2025 Nga Hoang. Some rights reserved.Using the Chirpy theme for Jekyll.Trending Tags aws cloudfront jekyll on-premise route53 s3 docker k0s k8s oss             \\n\")]"
            ]
          },
          "metadata": {},
          "execution_count": 20
        }
      ]
    },
    {
      "cell_type": "code",
      "source": [
        "from langchain.schema import Document\n",
        "\n",
        "steve_documents = Document(page_content=steve_clean_text, metadata={\"source\": \"steve\"})\n",
        "jacob_documents.append(steve_documents)\n",
        "documents=jacob_documents\n",
        "documents"
      ],
      "metadata": {
        "colab": {
          "base_uri": "https://localhost:8080/"
        },
        "collapsed": true,
        "id": "6I4rBtPwqubG",
        "outputId": "8e3a95c4-fb7d-4def-a3f0-74c6e97be36a"
      },
      "execution_count": null,
      "outputs": [
        {
          "output_type": "execute_result",
          "data": {
            "text/plain": [
              "[Document(metadata={'source': 'https://ngahoangdev.com/certificates/', 'title': 'Certificates | Nga Hoang', 'description': 'I’m happy to share the list of certifications I have earned 😁', 'language': 'en'}, page_content=\" Certificates | Nga Hoang     Nga HoangHi! I'm a software engineer, and this is my personal blog where I document everything about my career. Feel free to give it a read. Thanks!   HOME    CATEGORIES    TAGS    ARCHIVES    CERTIFICATES    ABOUT                    Home   Certificates   Certificates       Cancel CertificatesI’m happy to share the list of certifications I have earned 😁BadgeNameCredlyIssued DateIssued byAWS Certified Solutions Architect – AssociateLink2023-12-01AWSData Analysis with PythonLink2023-12-19CourseraData Visualization with PythonLink2023-12-19CourseraRecently Updated Set up a Nginx Ingress on k8s Set up a Kubernetes cluster using k0s AWS Certified Solutions Architect - Associate (SAA-C03) Cheat Sheet How I built this website? - Jekyll and AWS (Part 1) Setup Jupyter Lab with PlotlyTrending Tags aws cloudfront jekyll on-premise route53 s3 docker k0s k8s ossFriends devopslite © 2025 Nga Hoang. Some rights reserved.Using the Chirpy theme for Jekyll.Trending Tags aws cloudfront jekyll on-premise route53 s3 docker k0s k8s oss             \\n\"),\n",
              " Document(metadata={'source': 'https://ngahoangdev.com/about/', 'title': 'About | Nga Hoang', 'description': 'Greetings! 👋 I’m Nga, you can call me Jacob. I’m Python Engineer with 5+ years of hands-on experience which is passionate about leveraging Python’s power to build robust applications. With my knowledge of AWS services and Linux, I enjoy architecting scalable solutions that seamlessly blend code and infrastructure. Here you’ll find various articles about some of my insights and challenges long my software development journey.', 'language': 'en'}, page_content=\" About | Nga Hoang     Nga HoangHi! I'm a software engineer, and this is my personal blog where I document everything about my career. Feel free to give it a read. Thanks!   HOME    CATEGORIES    TAGS    ARCHIVES    CERTIFICATES    ABOUT                    Home   About   About       Cancel AboutGreetings! 👋 I’m Nga, you can call me Jacob. I’m Python Engineer with 5+ years of hands-on experience which is passionate about leveraging Python’s power to build robust applications. With my knowledge of AWS services and Linux, I enjoy architecting scalable solutions that seamlessly blend code and infrastructure. Here you’ll find various articles about some of my insights and challenges long my software development journey.I hope you enjoy the content. If you’d like to reach out, the best place right now is to connect on LinkedIn or go to my Github. Thanks!Recently Updated Set up a Nginx Ingress on k8s Set up a Kubernetes cluster using k0s AWS Certified Solutions Architect - Associate (SAA-C03) Cheat Sheet How I built this website? - Jekyll and AWS (Part 1) Setup Jupyter Lab with PlotlyTrending Tags aws cloudfront jekyll on-premise route53 s3 docker k0s k8s ossFriends devopslite © 2025 Nga Hoang. Some rights reserved.Using the Chirpy theme for Jekyll.Trending Tags aws cloudfront jekyll on-premise route53 s3 docker k0s k8s oss             \\n\"),\n",
              " Document(metadata={'source': 'https://ngahoangdev.com/', 'title': 'Nga Hoang', 'description': 'Explore the world of technology and programming with Nga Hoang’s Dev Blog. Discover insightful articles on web development, software engineering, and the latest trends in the tech industry', 'language': 'en'}, page_content=\" Nga Hoang     Nga HoangHi! I'm a software engineer, and this is my personal blog where I document everything about my career. Feel free to give it a read. Thanks!   HOME    CATEGORIES    TAGS    ARCHIVES    CERTIFICATES    ABOUT                  Home   Nga Hoang       Cancel Set up a Nginx Ingress on k8s Hello everyone, it’s me again. Today is the first day of the Year of the Snake 2025, according to Eastern tradition. I wish you a new year full of health and energy for the challenges and opportuni...   Jan 29, 2025    Technical sharing, Kubernetes, open-source  Set up a Kubernetes cluster using k0s Hello everyone, its new year 2025 and I’m back after a long time! Today, I want to share how to set up a Kubernetes cluster using k0s, which I just learned about a couple of days ago. I’ve been usi...   Jan 1, 2025    Technical sharing, Kubernetes, open-source  How I built this website? - Jekyll and AWS (Part 3) In previous article, I have shared how to use Github and Github Action for automation build and deploy to AWS. We need the final step to avoid the issue NoSuchKey which is returned from S3 Root ca...   Apr 21, 2024    Technical sharing, AWS  How I built this website? - Jekyll and AWS (Part 2) In previous article, I have shared how to setup Jekyll Blogs on AWS by using S3, Cloudfront and Route53. In this one, we continue to use Github and Github Action for automation build and deploy to ...   Jan 1, 2024    Technical sharing, AWS  Using Certbot to generate Let's Encrypt wildcard certificates In this guide, we’ll explore the process of utilizing Certbot for the creation of Let’s Encrypt wildcard certificates. A wildcard certificate helps to secure numerous subdomains under a single SSL ...   Dec 27, 2023    Technical sharing, Security  Setup Jupyter Lab with Plotly This article will show you how to setup Jupyter Lab and install some Python Packages for Data Analysis and Data Visualization work. Setup Python Environment First of all, you should have a Python ...   Dec 20, 2023    Technical sharing, Python  How I built this website? - Jekyll and AWS (Part 1) Welcome to my first article. This will show you how I setup, manage and publish my blog website to the internet. I’m using Jekyll as an open source for technical writing using Jekyll theme. While ...   Dec 5, 2023    Technical sharing, AWS  AWS Certified Solutions Architect - Associate (SAA-C03) Cheat Sheet Introduction The AWS Certified Solutions Architect - Associate (SAA-C03) exam is a pivotal certification for professionals aspiring to design distributed systems on the Amazon Web Services (AWS) p...   Nov 27, 2023    AWS, Certification, Cheat Sheet Recently Updated Set up a Nginx Ingress on k8s Set up a Kubernetes cluster using k0s AWS Certified Solutions Architect - Associate (SAA-C03) Cheat Sheet How I built this website? - Jekyll and AWS (Part 1) Setup Jupyter Lab with PlotlyTrending Tags aws cloudfront jekyll on-premise route53 s3 docker k0s k8s ossFriends devopslite © 2025 Nga Hoang. Some rights reserved.Using the Chirpy theme for Jekyll.Trending Tags aws cloudfront jekyll on-premise route53 s3 docker k0s k8s oss             \\n\"),\n",
              " Document(metadata={'source': 'steve'}, page_content=\"Steve CV Steve CV About Experience Articles Certificate Contact Steve Nguyen DeveloperHire MeResume About Hello! I am Steve Nguyen and come from Viet Nam. Web Developer, Python Engineer. I am holding a degree in Da Nang University of Technology. I have several years experiences for python developer and a little bit of experiences about developing golang. Mostly, I use Django rest framework in my projects. Recently, I do work with FastAPI and Flask in micro services basis. Basic Information Age: 28 Email: stevenguyen1996vn@gmail.com Phone: +84 935 682 466 Address: Ho Chi Minh, Viet Nam Hobbies: Soccer, Gym Work Experience 2022 - Present Links Project Full-stack Developer The product provide clients a tool to manage human office with functions like generate payslip, request a leave, timekeeping, ... We allocate functions to many services and use Azure services to deploy. I usually work on portal and azure CLI to manage service like App service, Function app, Storage account, cosmos DB, API management and so on. We are building docker images for our services which is as needed to set up kubernetes. Frameworks I used is Django, NestJS, NodeJS to provice API. In django, I also read data from excels fiel by pandas and numpy. Reactjs is Frontend framework and React native is used on mobile. linksinternational.com → 2022 SmartQA Project Python Developer I take part in building project based of serverless architecture. The project has functions like trello with manage tasks, assign to member and so on. The project use AWS services such as: lambda function, SES, Route53, DynamoBD, IotCore, S3, etc... I ofen use AWS SAM and AWS CLI to deploy resources on cloud. sqa.jp → 2021 - 2022 Datatize Crypto Project Python Developer Product analyze data from exchanges by storing data and draw on diagrams. Thanks to product, clients can predict and make a decision to buy or sell. To scraping data, we use jobs run on Airflow then store data in postgresql. Dash is a perfect framework which supports developers query, adujst and draw on diagrams. Besides, I usually incorporate exchange API such as Coinbase, Kraken in project. Numpy, Pandas are libraries used in adjusting and handling data. Automatically, we deploy by Github action CI/CD, then testing by unit test and selenium test. datatize.com → 2020 - 2021 Umbalena Project Python Developer I join hand to build an owner e-book product intended children around the world. This project runs on microservices basis. To make it more clearly, my team choose python as main backend language and several frameworks such as Django, FastAPI, Flask and so on. I take responsibility for creating models, exploring technologies and development Docker. umbalena.vn → 2019 - 2020 Thegioigas Project BackEnd Developer Another microservice projects I built, but It is a manager system about providing gas in the middle of Viet Nam. To clarify, we use a new program language as Go and Python to develop several small projects, that combined to a system in kubernetes basis. My ambitions are designing models, discover high-tech and work with Docker thegioigas.vn → 2018 - 2019 Metiz cinema Project Python Developer This project helps consumers control a cinema with booking, creating schedule, etc.. My colleague and I start the project about cinema which use Django framework. To clarify, I access data through query sql in server. Then, I render page by html, css and jquery with animations. metiz.vn → 2017 - 2018 Helio Project BackEnd Developer The first project I joined is website for entertainment center in Da Nang City. We have Django Rest Framework to provide API. Moreover, we integrate API from Google and facebook in Oauth and FCM. We also work with designers to create layout. helio.vn → Education 2014 - 2019 Bachelor's Degree The Degree of Engineer in Information Technology Da Nang University of Science and Technology I studied at Da Nang University of Science and Technology and graduated in August 2019. My major is Software developer. I have 5 years for learning computer science in higher education. Articles Build React Native application using Expo Developers don't need macOS to build mobile app. Read More Publish android application to Google Publishment application to Google play often require many process. Read More Publish application to App Store IOS application is indispensable part of mobile project. Read More Debug in API Management Azure How to trace requests in api gateway management. Read More Azure App Service Guide Cloud service helps developers so munch in deployment. Read More Function app serverless on Azure Traditionally, we choose plaftform, set up version language, install libraries.. Read More CI/CD in Azure Devops Building a Continuous Integration Pipeline in Azure DevOps. Read More AWS Lambda function Lambda function is the most popular technique every developers all know. Read More Install Boto3 in layer AWS Lambda function Lambda function is the most popular technique every developers all know. Read More Minio Object Storage Service (like Amazon S3) Object storage service is more popular for several reasons. Read More Neural network Foundamental Artificial Intelligence Foundamental for beginners. Read More Migrations in django Migrations are Django’s way of applying changes you make to your models. Read More Deploy Django on Pythonanywhere Guide Deployment is required process in software. Read More Unit Test And Selenium in python Testing is a necessary part of the development process but not all. Read More Promise Vs Async/Await in javascript How difference between Promise chains and Async/Await. Read More Compare packages in javascript Explain and compare popular concept like npm, yarn and so on. Read More Cronjob, Celery and Scheduled tasks in python Cronjob is a solution I got exposed to at first. Read More OAuth And OAuth2 Workflow OAuth (Open Authorization) is an open standard for authentication and authorization. Read More PayPal Payment Integration Guide In Service API They are webhook paypal and api payment paypal. Read More In-App Payment Guide In Service API In-App payment is available and supported by Apple and Google. Read More Collation in SQL Rule for store and query data in sql. Read More Programing language Framework Cloud Services Artificial Intelligence Portfolio Umbalena Project Website and App Metiz Project Website and App Gas Project Website and App Helio Project Website and App Triangle Pattern Graphic Design Abstract Umbrella Graphic Design Cube Surface Texture Graphic Design Abstract Line Graphic Design Photoshoot Photography Wedding Photoshoot Photography Beach Photoshoot Photography Nature Photoshoot Photography Professional Skills English 85% Python 85% SQL 70% Golang 60% Docker 75% React js 60% Contact Me Feel free to contact me Send Address Ho Chi Minh, Viet Nam Phone +84 935 682 466 Email steveguyen1996vn@gmail.com Steve Nguyen © Steve CV. All rights reserved.Design - TemplateFlip\")]"
            ]
          },
          "metadata": {},
          "execution_count": 21
        }
      ]
    },
    {
      "cell_type": "code",
      "source": [
        "# https://python.langchain.com/docs/integrations/vectorstores/chroma/\n",
        "from langchain.vectorstores import Chroma\n",
        "from langchain.embeddings import OpenAIEmbeddings\n",
        "from langchain.schema import Document\n",
        "import os\n",
        "from google.colab import userdata\n",
        "OPENAI_API_KEY = userdata.get('gpt')\n",
        "\n",
        "os.environ[\"OPENAI_API_KEY\"] = OPENAI_API_KEY\n",
        "# Initialize the embeddings model\n",
        "embedding_function = OpenAIEmbeddings()  # Make sure you have the OpenAI API key set\n",
        "\n",
        "# Load from disk\n",
        "vectorstore = Chroma(\n",
        "    persist_directory=\"./chroma_db3\",\n",
        "    embedding_function=embedding_function\n",
        ")"
      ],
      "metadata": {
        "colab": {
          "base_uri": "https://localhost:8080/"
        },
        "id": "ojk31rXTrdUc",
        "outputId": "a998453d-e26b-452a-d653-8938258e7dd9"
      },
      "execution_count": null,
      "outputs": [
        {
          "output_type": "stream",
          "name": "stderr",
          "text": [
            "<ipython-input-9-e535886a2a7c>:11: LangChainDeprecationWarning: The class `OpenAIEmbeddings` was deprecated in LangChain 0.0.9 and will be removed in 1.0. An updated version of the class exists in the :class:`~langchain-openai package and should be used instead. To use it run `pip install -U :class:`~langchain-openai` and import as `from :class:`~langchain_openai import OpenAIEmbeddings``.\n",
            "  embedding_function = OpenAIEmbeddings()  # Make sure you have the OpenAI API key set\n",
            "<ipython-input-9-e535886a2a7c>:14: LangChainDeprecationWarning: The class `Chroma` was deprecated in LangChain 0.2.9 and will be removed in 1.0. An updated version of the class exists in the :class:`~langchain-chroma package and should be used instead. To use it run `pip install -U :class:`~langchain-chroma` and import as `from :class:`~langchain_chroma import Chroma``.\n",
            "  vectorstore = Chroma(\n"
          ]
        }
      ]
    },
    {
      "cell_type": "code",
      "source": [
        "vectorstore.add_documents(documents=documents)"
      ],
      "metadata": {
        "colab": {
          "base_uri": "https://localhost:8080/"
        },
        "id": "jN0QtTD7uJ6G",
        "outputId": "91cd31e6-48e8-4abe-8945-a412df6cdbd2"
      },
      "execution_count": null,
      "outputs": [
        {
          "output_type": "execute_result",
          "data": {
            "text/plain": [
              "['8c1b30b3-4773-41bd-851c-138dd78f7583',\n",
              " 'aabcc3ec-2aa9-4a7b-820d-34e51d7a941e',\n",
              " '238c9118-953c-4ebd-9e17-58e5eddd84db',\n",
              " 'de26f6bc-2009-48d1-a0c8-f13dbb238f6d']"
            ]
          },
          "metadata": {},
          "execution_count": 22
        }
      ]
    },
    {
      "cell_type": "code",
      "source": [
        "query = \"Which frameworks did Steve use?\"\n",
        "# Perform similarity search\n",
        "results = vectorstore.similarity_search(query, k=2)\n",
        "\n",
        "for res in results:\n",
        "    print(res.page_content)"
      ],
      "metadata": {
        "colab": {
          "base_uri": "https://localhost:8080/"
        },
        "id": "ah-VCltEtz3B",
        "outputId": "cc6933d4-b8d9-4057-e635-fa952621affd"
      },
      "execution_count": null,
      "outputs": [
        {
          "output_type": "stream",
          "name": "stdout",
          "text": [
            "Steve CV Steve CV About Experience Articles Certificate Contact Steve Nguyen DeveloperHire MeResume About Hello! I am Steve Nguyen and come from Viet Nam. Web Developer, Python Engineer. I am holding a degree in Da Nang University of Technology. I have several years experiences for python developer and a little bit of experiences about developing golang. Mostly, I use Django rest framework in my projects. Recently, I do work with FastAPI and Flask in micro services basis. Basic Information Age: 28 Email: stevenguyen1996vn@gmail.com Phone: +84 935 682 466 Address: Ho Chi Minh, Viet Nam Hobbies: Soccer, Gym Work Experience 2022 - Present Links Project Full-stack Developer The product provide clients a tool to manage human office with functions like generate payslip, request a leave, timekeeping, ... We allocate functions to many services and use Azure services to deploy. I usually work on portal and azure CLI to manage service like App service, Function app, Storage account, cosmos DB, API management and so on. We are building docker images for our services which is as needed to set up kubernetes. Frameworks I used is Django, NestJS, NodeJS to provice API. In django, I also read data from excels fiel by pandas and numpy. Reactjs is Frontend framework and React native is used on mobile. linksinternational.com → 2022 SmartQA Project Python Developer I take part in building project based of serverless architecture. The project has functions like trello with manage tasks, assign to member and so on. The project use AWS services such as: lambda function, SES, Route53, DynamoBD, IotCore, S3, etc... I ofen use AWS SAM and AWS CLI to deploy resources on cloud. sqa.jp → 2021 - 2022 Datatize Crypto Project Python Developer Product analyze data from exchanges by storing data and draw on diagrams. Thanks to product, clients can predict and make a decision to buy or sell. To scraping data, we use jobs run on Airflow then store data in postgresql. Dash is a perfect framework which supports developers query, adujst and draw on diagrams. Besides, I usually incorporate exchange API such as Coinbase, Kraken in project. Numpy, Pandas are libraries used in adjusting and handling data. Automatically, we deploy by Github action CI/CD, then testing by unit test and selenium test. datatize.com → 2020 - 2021 Umbalena Project Python Developer I join hand to build an owner e-book product intended children around the world. This project runs on microservices basis. To make it more clearly, my team choose python as main backend language and several frameworks such as Django, FastAPI, Flask and so on. I take responsibility for creating models, exploring technologies and development Docker. umbalena.vn → 2019 - 2020 Thegioigas Project BackEnd Developer Another microservice projects I built, but It is a manager system about providing gas in the middle of Viet Nam. To clarify, we use a new program language as Go and Python to develop several small projects, that combined to a system in kubernetes basis. My ambitions are designing models, discover high-tech and work with Docker thegioigas.vn → 2018 - 2019 Metiz cinema Project Python Developer This project helps consumers control a cinema with booking, creating schedule, etc.. My colleague and I start the project about cinema which use Django framework. To clarify, I access data through query sql in server. Then, I render page by html, css and jquery with animations. metiz.vn → 2017 - 2018 Helio Project BackEnd Developer The first project I joined is website for entertainment center in Da Nang City. We have Django Rest Framework to provide API. Moreover, we integrate API from Google and facebook in Oauth and FCM. We also work with designers to create layout. helio.vn → Education 2014 - 2019 Bachelor's Degree The Degree of Engineer in Information Technology Da Nang University of Science and Technology I studied at Da Nang University of Science and Technology and graduated in August 2019. My major is Software developer. I have 5 years for learning computer science in higher education. Articles Build React Native application using Expo Developers don't need macOS to build mobile app. Read More Publish android application to Google Publishment application to Google play often require many process. Read More Publish application to App Store IOS application is indispensable part of mobile project. Read More Debug in API Management Azure How to trace requests in api gateway management. Read More Azure App Service Guide Cloud service helps developers so munch in deployment. Read More Function app serverless on Azure Traditionally, we choose plaftform, set up version language, install libraries.. Read More CI/CD in Azure Devops Building a Continuous Integration Pipeline in Azure DevOps. Read More AWS Lambda function Lambda function is the most popular technique every developers all know. Read More Install Boto3 in layer AWS Lambda function Lambda function is the most popular technique every developers all know. Read More Minio Object Storage Service (like Amazon S3) Object storage service is more popular for several reasons. Read More Neural network Foundamental Artificial Intelligence Foundamental for beginners. Read More Migrations in django Migrations are Django’s way of applying changes you make to your models. Read More Deploy Django on Pythonanywhere Guide Deployment is required process in software. Read More Unit Test And Selenium in python Testing is a necessary part of the development process but not all. Read More Promise Vs Async/Await in javascript How difference between Promise chains and Async/Await. Read More Compare packages in javascript Explain and compare popular concept like npm, yarn and so on. Read More Cronjob, Celery and Scheduled tasks in python Cronjob is a solution I got exposed to at first. Read More OAuth And OAuth2 Workflow OAuth (Open Authorization) is an open standard for authentication and authorization. Read More PayPal Payment Integration Guide In Service API They are webhook paypal and api payment paypal. Read More In-App Payment Guide In Service API In-App payment is available and supported by Apple and Google. Read More Collation in SQL Rule for store and query data in sql. Read More Programing language Framework Cloud Services Artificial Intelligence Portfolio Umbalena Project Website and App Metiz Project Website and App Gas Project Website and App Helio Project Website and App Triangle Pattern Graphic Design Abstract Umbrella Graphic Design Cube Surface Texture Graphic Design Abstract Line Graphic Design Photoshoot Photography Wedding Photoshoot Photography Beach Photoshoot Photography Nature Photoshoot Photography Professional Skills English 85% Python 85% SQL 70% Golang 60% Docker 75% React js 60% Contact Me Feel free to contact me Send Address Ho Chi Minh, Viet Nam Phone +84 935 682 466 Email steveguyen1996vn@gmail.com Steve Nguyen © Steve CV. All rights reserved.Design - TemplateFlip\n",
            " Certificates | Nga Hoang     Nga HoangHi! I'm a software engineer, and this is my personal blog where I document everything about my career. Feel free to give it a read. Thanks!   HOME    CATEGORIES    TAGS    ARCHIVES    CERTIFICATES    ABOUT                    Home   Certificates   Certificates       Cancel CertificatesI’m happy to share the list of certifications I have earned 😁BadgeNameCredlyIssued DateIssued byAWS Certified Solutions Architect – AssociateLink2023-12-01AWSData Analysis with PythonLink2023-12-19CourseraData Visualization with PythonLink2023-12-19CourseraRecently Updated Set up a Nginx Ingress on k8s Set up a Kubernetes cluster using k0s AWS Certified Solutions Architect - Associate (SAA-C03) Cheat Sheet How I built this website? - Jekyll and AWS (Part 1) Setup Jupyter Lab with PlotlyTrending Tags aws cloudfront jekyll on-premise route53 s3 docker k0s k8s ossFriends devopslite © 2025 Nga Hoang. Some rights reserved.Using the Chirpy theme for Jekyll.Trending Tags aws cloudfront jekyll on-premise route53 s3 docker k0s k8s oss             \n",
            "\n"
          ]
        }
      ]
    },
    {
      "cell_type": "code",
      "source": [
        "# https://python.langchain.com/v0.1/docs/expression_language/get_started/\n",
        "from langchain_core.output_parsers import StrOutputParser\n",
        "from langchain_core.prompts import ChatPromptTemplate\n",
        "\n",
        "prompt = ChatPromptTemplate.from_template(\"You are assisstant, answer {question} base on infomation of developers: {data}\")\n",
        "output_parser = StrOutputParser()\n",
        "\n",
        "chain = prompt | model | output_parser\n",
        "\n",
        "chain.invoke({\"question\": \"Which frameworks did Steve use?\",\"data\": results})"
      ],
      "metadata": {
        "colab": {
          "base_uri": "https://localhost:8080/",
          "height": 122
        },
        "id": "uCPVRdQcxPN-",
        "outputId": "0e3d9307-33ab-4189-a939-281530bcd8f9"
      },
      "execution_count": null,
      "outputs": [
        {
          "output_type": "execute_result",
          "data": {
            "text/plain": [
              "'Based on the information provided about Steve Nguyen, the frameworks he has used include:\\n\\n1. **Django** - Primarily used for web development and API creation.\\n2. **Django Rest Framework** - Used for building RESTful APIs with Django.\\n3. **FastAPI** - Used for creating APIs efficiently, particularly in microservices architecture.\\n4. **Flask** - Another lightweight framework used in microservices.\\n5. **NestJS** - A framework for building server-side applications with Node.js.\\n6. **Node.js** - Used to provide APIs.\\n7. **Dash** - Used for data visualization in projects involving data analysis.\\n8. **React.js** - Frontend framework for building user interfaces in web applications.\\n9. **React Native** - Used for mobile application development.\\n\\nAdditionally, he works with Docker for creating and managing containerized applications.'"
            ],
            "application/vnd.google.colaboratory.intrinsic+json": {
              "type": "string"
            }
          },
          "metadata": {},
          "execution_count": 25
        }
      ]
    },
    {
      "cell_type": "code",
      "source": [
        "!pip install flask pyngrok\n",
        "!pip install flask-cors"
      ],
      "metadata": {
        "colab": {
          "base_uri": "https://localhost:8080/"
        },
        "id": "H5OvYGhn59vS",
        "outputId": "39583e2e-2c72-4944-b65b-e53c3229c6d9",
        "collapsed": true
      },
      "execution_count": null,
      "outputs": [
        {
          "output_type": "stream",
          "name": "stdout",
          "text": [
            "Requirement already satisfied: flask in /usr/local/lib/python3.11/dist-packages (3.1.0)\n",
            "Collecting pyngrok\n",
            "  Downloading pyngrok-7.2.7-py3-none-any.whl.metadata (9.4 kB)\n",
            "Requirement already satisfied: Werkzeug>=3.1 in /usr/local/lib/python3.11/dist-packages (from flask) (3.1.3)\n",
            "Requirement already satisfied: Jinja2>=3.1.2 in /usr/local/lib/python3.11/dist-packages (from flask) (3.1.6)\n",
            "Requirement already satisfied: itsdangerous>=2.2 in /usr/local/lib/python3.11/dist-packages (from flask) (2.2.0)\n",
            "Requirement already satisfied: click>=8.1.3 in /usr/local/lib/python3.11/dist-packages (from flask) (8.1.8)\n",
            "Requirement already satisfied: blinker>=1.9 in /usr/local/lib/python3.11/dist-packages (from flask) (1.9.0)\n",
            "Requirement already satisfied: PyYAML>=5.1 in /usr/local/lib/python3.11/dist-packages (from pyngrok) (6.0.2)\n",
            "Requirement already satisfied: MarkupSafe>=2.0 in /usr/local/lib/python3.11/dist-packages (from Jinja2>=3.1.2->flask) (3.0.2)\n",
            "Downloading pyngrok-7.2.7-py3-none-any.whl (23 kB)\n",
            "Installing collected packages: pyngrok\n",
            "Successfully installed pyngrok-7.2.7\n",
            "Collecting flask-cors\n",
            "  Downloading flask_cors-5.0.1-py3-none-any.whl.metadata (961 bytes)\n",
            "Requirement already satisfied: flask>=0.9 in /usr/local/lib/python3.11/dist-packages (from flask-cors) (3.1.0)\n",
            "Requirement already satisfied: Werkzeug>=0.7 in /usr/local/lib/python3.11/dist-packages (from flask-cors) (3.1.3)\n",
            "Requirement already satisfied: Jinja2>=3.1.2 in /usr/local/lib/python3.11/dist-packages (from flask>=0.9->flask-cors) (3.1.6)\n",
            "Requirement already satisfied: itsdangerous>=2.2 in /usr/local/lib/python3.11/dist-packages (from flask>=0.9->flask-cors) (2.2.0)\n",
            "Requirement already satisfied: click>=8.1.3 in /usr/local/lib/python3.11/dist-packages (from flask>=0.9->flask-cors) (8.1.8)\n",
            "Requirement already satisfied: blinker>=1.9 in /usr/local/lib/python3.11/dist-packages (from flask>=0.9->flask-cors) (1.9.0)\n",
            "Requirement already satisfied: MarkupSafe>=2.1.1 in /usr/local/lib/python3.11/dist-packages (from Werkzeug>=0.7->flask-cors) (3.0.2)\n",
            "Downloading flask_cors-5.0.1-py3-none-any.whl (11 kB)\n",
            "Installing collected packages: flask-cors\n",
            "Successfully installed flask-cors-5.0.1\n"
          ]
        }
      ]
    },
    {
      "cell_type": "code",
      "source": [
        "\n",
        "from flask import Flask, request, jsonify\n",
        "from pyngrok import ngrok\n",
        "from flask_cors import CORS\n",
        "from langchain_core.messages import AIMessage, HumanMessage\n",
        "from langchain_core.runnables.history import RunnableWithMessageHistory\n",
        "from langchain_core.output_parsers import StrOutputParser\n",
        "from langchain_core.prompts import ChatPromptTemplate\n",
        "from langchain_core.chat_history import InMemoryChatMessageHistory\n",
        "\n",
        "import json\n",
        "from google.colab import userdata\n",
        "ngrok_key = userdata.get(\"ngrok\")\n",
        "\n",
        "app = Flask(__name__)\n",
        "CORS(app)\n",
        "\n",
        "runnable = RunnableWithMessageHistory(model, get_chat_history) # From existing code\n",
        "# Function to get memory (e.g., per session or user)\n",
        "def get_session_history(session_id: str):\n",
        "    return InMemoryChatMessageHistory()  # or use RedisChatMessageHistory, etc.\n",
        "# Test endpoint\n",
        "@app.route('/')\n",
        "def home():\n",
        "    return \"Hello, World!\"\n",
        "\n",
        "# SAM mask endpoint\n",
        "@app.route('/chat', methods=['POST'])\n",
        "def sam_endpoint():\n",
        "    data = request.get_json()\n",
        "\n",
        "    # Check if message exists in the request\n",
        "    if not data or 'message' not in data:\n",
        "        return jsonify({'error': 'No message provided'}), 400\n",
        "\n",
        "    input_text = data.get('message')\n",
        "    session_id = data.get('session_id')\n",
        "    output = route_layer(input_text)\n",
        "    print(\"output\", output)\n",
        "    if output.name == \"interviewee\":\n",
        "        print(\"The query is about interviewee.\")\n",
        "        #query vector\n",
        "        # Perform similarity search\n",
        "        results = vectorstore.similarity_search(input_text, k=2)\n",
        "        print(f\"results: {results}\")\n",
        "        prompt = ChatPromptTemplate.from_template(\"You are assisstant, answer {question} base on infomation: {data}\")\n",
        "        output_parser = StrOutputParser()\n",
        "\n",
        "        chain = prompt | model | output_parser\n",
        "\n",
        "        # chain.invoke({\"question\": input_text,\"data\": results})\n",
        "        chain_with_history = RunnableWithMessageHistory(\n",
        "            chain,\n",
        "            get_session_history=get_session_history,\n",
        "            input_messages_key=\"question\",     # which input is treated as user message\n",
        "            history_messages_key=\"history\",    # where past messages will be injected\n",
        "        )\n",
        "        response = chain_with_history.invoke(\n",
        "            {\n",
        "                \"question\": input_text,\n",
        "                \"data\": results,\n",
        "            },\n",
        "            config={\"configurable\": {\"session_id\": session_id}}\n",
        "        )\n",
        "\n",
        "        print(response)\n",
        "        return jsonify(response)\n",
        "\n",
        "    elif output.name == \"chitchat\":\n",
        "        print(\"The query is about chitchat.\")\n",
        "        config = {\"configurable\": {\"session_id\": session_id}}\n",
        "        response =  runnable.invoke([HumanMessage(content=input_text)], config=config)\n",
        "        print(response)\n",
        "    else:\n",
        "        print(\"The query does not match any defined routes.\")\n",
        "        config = {\"configurable\": {\"session_id\": session_id}}\n",
        "        response =  runnable.invoke([HumanMessage(content=input_text)], config=config)\n",
        "        print(response)\n",
        "\n",
        "\n",
        "    return jsonify(response.content)\n",
        "\n",
        "ngrok.set_auth_token(ngrok_key)\n",
        "# Terminate any open tunnels if running in a reused environment\n",
        "ngrok.kill()\n",
        "\n",
        "# Create a tunnel to the default Flask port 5000\n",
        "public_url = ngrok.connect(5000)\n",
        "print(f\"Public URL: {public_url}\")\n",
        "\n",
        "if __name__ == '__main__':\n",
        "    app.run()"
      ],
      "metadata": {
        "colab": {
          "base_uri": "https://localhost:8080/"
        },
        "id": "gcUyOPvD6OCL",
        "outputId": "8452b14b-7b60-485b-fd96-ac2775c5bcf3"
      },
      "execution_count": null,
      "outputs": [
        {
          "output_type": "stream",
          "name": "stdout",
          "text": [
            "Public URL: NgrokTunnel: \"https://dad3-34-90-130-78.ngrok-free.app\" -> \"http://localhost:5000\"\n",
            " * Serving Flask app '__main__'\n",
            " * Debug mode: off\n"
          ]
        },
        {
          "output_type": "stream",
          "name": "stderr",
          "text": [
            "INFO:werkzeug:\u001b[31m\u001b[1mWARNING: This is a development server. Do not use it in a production deployment. Use a production WSGI server instead.\u001b[0m\n",
            " * Running on http://127.0.0.1:5000\n",
            "INFO:werkzeug:\u001b[33mPress CTRL+C to quit\u001b[0m\n"
          ]
        },
        {
          "output_type": "stream",
          "name": "stdout",
          "text": [
            "output name='interviewee' function_call=None similarity_score=None\n",
            "The query is about interviewee.\n",
            "results: [Document(metadata={'description': 'Greetings! 👋 I’m Nga, you can call me Jacob. I’m Python Engineer with 5+ years of hands-on experience which is passionate about leveraging Python’s power to build robust applications. With my knowledge of AWS services and Linux, I enjoy architecting scalable solutions that seamlessly blend code and infrastructure. Here you’ll find various articles about some of my insights and challenges long my software development journey.', 'language': 'en', 'source': 'https://ngahoangdev.com/about/', 'title': 'About | Nga Hoang'}, page_content=\" About | Nga Hoang     Nga HoangHi! I'm a software engineer, and this is my personal blog where I document everything about my career. Feel free to give it a read. Thanks!   HOME    CATEGORIES    TAGS    ARCHIVES    CERTIFICATES    ABOUT                    Home   About   About       Cancel AboutGreetings! 👋 I’m Nga, you can call me Jacob. I’m Python Engineer with 5+ years of hands-on experience which is passionate about leveraging Python’s power to build robust applications. With my knowledge of AWS services and Linux, I enjoy architecting scalable solutions that seamlessly blend code and infrastructure. Here you’ll find various articles about some of my insights and challenges long my software development journey.I hope you enjoy the content. If you’d like to reach out, the best place right now is to connect on LinkedIn or go to my Github. Thanks!Recently Updated Set up a Nginx Ingress on k8s Set up a Kubernetes cluster using k0s AWS Certified Solutions Architect - Associate (SAA-C03) Cheat Sheet How I built this website? - Jekyll and AWS (Part 1) Setup Jupyter Lab with PlotlyTrending Tags aws cloudfront jekyll on-premise route53 s3 docker k0s k8s ossFriends devopslite © 2025 Nga Hoang. Some rights reserved.Using the Chirpy theme for Jekyll.Trending Tags aws cloudfront jekyll on-premise route53 s3 docker k0s k8s oss             \\n\"), Document(metadata={'source': 'steve'}, page_content=\"Steve CV Steve CV About Experience Articles Certificate Contact Steve Nguyen DeveloperHire MeResume About Hello! I am Steve Nguyen and come from Viet Nam. Web Developer, Python Engineer. I am holding a degree in Da Nang University of Technology. I have several years experiences for python developer and a little bit of experiences about developing golang. Mostly, I use Django rest framework in my projects. Recently, I do work with FastAPI and Flask in micro services basis. Basic Information Age: 28 Email: stevenguyen1996vn@gmail.com Phone: +84 935 682 466 Address: Ho Chi Minh, Viet Nam Hobbies: Soccer, Gym Work Experience 2022 - Present Links Project Full-stack Developer The product provide clients a tool to manage human office with functions like generate payslip, request a leave, timekeeping, ... We allocate functions to many services and use Azure services to deploy. I usually work on portal and azure CLI to manage service like App service, Function app, Storage account, cosmos DB, API management and so on. We are building docker images for our services which is as needed to set up kubernetes. Frameworks I used is Django, NestJS, NodeJS to provice API. In django, I also read data from excels fiel by pandas and numpy. Reactjs is Frontend framework and React native is used on mobile. linksinternational.com → 2022 SmartQA Project Python Developer I take part in building project based of serverless architecture. The project has functions like trello with manage tasks, assign to member and so on. The project use AWS services such as: lambda function, SES, Route53, DynamoBD, IotCore, S3, etc... I ofen use AWS SAM and AWS CLI to deploy resources on cloud. sqa.jp → 2021 - 2022 Datatize Crypto Project Python Developer Product analyze data from exchanges by storing data and draw on diagrams. Thanks to product, clients can predict and make a decision to buy or sell. To scraping data, we use jobs run on Airflow then store data in postgresql. Dash is a perfect framework which supports developers query, adujst and draw on diagrams. Besides, I usually incorporate exchange API such as Coinbase, Kraken in project. Numpy, Pandas are libraries used in adjusting and handling data. Automatically, we deploy by Github action CI/CD, then testing by unit test and selenium test. datatize.com → 2020 - 2021 Umbalena Project Python Developer I join hand to build an owner e-book product intended children around the world. This project runs on microservices basis. To make it more clearly, my team choose python as main backend language and several frameworks such as Django, FastAPI, Flask and so on. I take responsibility for creating models, exploring technologies and development Docker. umbalena.vn → 2019 - 2020 Thegioigas Project BackEnd Developer Another microservice projects I built, but It is a manager system about providing gas in the middle of Viet Nam. To clarify, we use a new program language as Go and Python to develop several small projects, that combined to a system in kubernetes basis. My ambitions are designing models, discover high-tech and work with Docker thegioigas.vn → 2018 - 2019 Metiz cinema Project Python Developer This project helps consumers control a cinema with booking, creating schedule, etc.. My colleague and I start the project about cinema which use Django framework. To clarify, I access data through query sql in server. Then, I render page by html, css and jquery with animations. metiz.vn → 2017 - 2018 Helio Project BackEnd Developer The first project I joined is website for entertainment center in Da Nang City. We have Django Rest Framework to provide API. Moreover, we integrate API from Google and facebook in Oauth and FCM. We also work with designers to create layout. helio.vn → Education 2014 - 2019 Bachelor's Degree The Degree of Engineer in Information Technology Da Nang University of Science and Technology I studied at Da Nang University of Science and Technology and graduated in August 2019. My major is Software developer. I have 5 years for learning computer science in higher education. Articles Build React Native application using Expo Developers don't need macOS to build mobile app. Read More Publish android application to Google Publishment application to Google play often require many process. Read More Publish application to App Store IOS application is indispensable part of mobile project. Read More Debug in API Management Azure How to trace requests in api gateway management. Read More Azure App Service Guide Cloud service helps developers so munch in deployment. Read More Function app serverless on Azure Traditionally, we choose plaftform, set up version language, install libraries.. Read More CI/CD in Azure Devops Building a Continuous Integration Pipeline in Azure DevOps. Read More AWS Lambda function Lambda function is the most popular technique every developers all know. Read More Install Boto3 in layer AWS Lambda function Lambda function is the most popular technique every developers all know. Read More Minio Object Storage Service (like Amazon S3) Object storage service is more popular for several reasons. Read More Neural network Foundamental Artificial Intelligence Foundamental for beginners. Read More Migrations in django Migrations are Django’s way of applying changes you make to your models. Read More Deploy Django on Pythonanywhere Guide Deployment is required process in software. Read More Unit Test And Selenium in python Testing is a necessary part of the development process but not all. Read More Promise Vs Async/Await in javascript How difference between Promise chains and Async/Await. Read More Compare packages in javascript Explain and compare popular concept like npm, yarn and so on. Read More Cronjob, Celery and Scheduled tasks in python Cronjob is a solution I got exposed to at first. Read More OAuth And OAuth2 Workflow OAuth (Open Authorization) is an open standard for authentication and authorization. Read More PayPal Payment Integration Guide In Service API They are webhook paypal and api payment paypal. Read More In-App Payment Guide In Service API In-App payment is available and supported by Apple and Google. Read More Collation in SQL Rule for store and query data in sql. Read More Programing language Framework Cloud Services Artificial Intelligence Portfolio Umbalena Project Website and App Metiz Project Website and App Gas Project Website and App Helio Project Website and App Triangle Pattern Graphic Design Abstract Umbrella Graphic Design Cube Surface Texture Graphic Design Abstract Line Graphic Design Photoshoot Photography Wedding Photoshoot Photography Beach Photoshoot Photography Nature Photoshoot Photography Professional Skills English 85% Python 85% SQL 70% Golang 60% Docker 75% React js 60% Contact Me Feel free to contact me Send Address Ho Chi Minh, Viet Nam Phone +84 935 682 466 Email steveguyen1996vn@gmail.com Steve Nguyen © Steve CV. All rights reserved.Design - TemplateFlip\")]\n"
          ]
        },
        {
          "output_type": "stream",
          "name": "stderr",
          "text": [
            "INFO:werkzeug:127.0.0.1 - - [06/May/2025 10:06:22] \"POST /chat HTTP/1.1\" 200 -\n"
          ]
        },
        {
          "output_type": "stream",
          "name": "stdout",
          "text": [
            "Jacob, also known as Nga Hoang, does not specify where he studied in the provided information. He identifies himself as a Python Engineer with over 5 years of experience in software development, but there is no mention of a specific school or institution. For further details about his professional background, you can visit his personal blog linked in the metadata.\n"
          ]
        }
      ]
    },
    {
      "cell_type": "code",
      "source": [
        "# https://python.langchain.com/v0.1/docs/modules/data_connection/retrievers/vectorstore/\n",
        "\n",
        "from langchain_core.output_parsers import StrOutputParser\n",
        "retriever = vectorstore.as_retriever()\n",
        "\n",
        "prompt = ChatPromptTemplate.from_template(\"You are assisstant, answer {question} base on infomation: {context}\")\n",
        "\n",
        "rag_chain = {\"context\": retriever, \"question\": RunnablePassthrough()} | prompt | model | StrOutputParser()\n",
        "\n",
        "rag_chain.invoke(\"Which frameworks did Steve use?\")\n"
      ],
      "metadata": {
        "id": "PWFewR6cQzpS"
      },
      "execution_count": null,
      "outputs": []
    }
  ]
}